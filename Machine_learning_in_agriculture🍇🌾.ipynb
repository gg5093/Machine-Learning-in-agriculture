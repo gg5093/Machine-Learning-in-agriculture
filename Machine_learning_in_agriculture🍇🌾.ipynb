{
  "metadata": {
    "kernelspec": {
      "language": "python",
      "display_name": "Python 3",
      "name": "python3"
    },
    "language_info": {
      "pygments_lexer": "ipython3",
      "nbconvert_exporter": "python",
      "version": "3.6.4",
      "file_extension": ".py",
      "codemirror_mode": {
        "name": "ipython",
        "version": 3
      },
      "name": "python",
      "mimetype": "text/x-python"
    },
    "colab": {
      "name": "Machine learning in agriculture🍇🌾",
      "provenance": []
    }
  },
  "nbformat_minor": 0,
  "nbformat": 4,
  "cells": [
    {
      "source": [
        "\n",
        "# IMPORTANT: RUN THIS CELL IN ORDER TO IMPORT YOUR KAGGLE DATA SOURCES\n",
        "# TO THE CORRECT LOCATION (/kaggle/input) IN YOUR NOTEBOOK,\n",
        "# THEN FEEL FREE TO DELETE THIS CELL.\n",
        "# NOTE: THIS NOTEBOOK ENVIRONMENT DIFFERS FROM KAGGLE'S PYTHON\n",
        "# ENVIRONMENT SO THERE MAY BE MISSING LIBRARIES USED BY YOUR\n",
        "# NOTEBOOK.\n",
        "\n",
        "import os\n",
        "import sys\n",
        "from tempfile import NamedTemporaryFile\n",
        "from urllib.request import urlopen\n",
        "from urllib.parse import unquote, urlparse\n",
        "from urllib.error import HTTPError\n",
        "from zipfile import ZipFile\n",
        "import tarfile\n",
        "import shutil\n",
        "\n",
        "CHUNK_SIZE = 40960\n",
        "DATA_SOURCE_MAPPING = 'smart-agricultural-production-optimizing-engine:https%3A%2F%2Fstorage.googleapis.com%2Fkaggle-data-sets%2F2088120%2F3468346%2Fbundle%2Farchive.zip%3FX-Goog-Algorithm%3DGOOG4-RSA-SHA256%26X-Goog-Credential%3Dgcp-kaggle-com%2540kaggle-161607.iam.gserviceaccount.com%252F20240513%252Fauto%252Fstorage%252Fgoog4_request%26X-Goog-Date%3D20240513T120948Z%26X-Goog-Expires%3D259200%26X-Goog-SignedHeaders%3Dhost%26X-Goog-Signature%3Dad210a82b4855fbccfa5caf48c35afc8158daccfe8067d0c99bb3b78f8692c94b81610dd78067b100cb6c2787bb71a3c9234ef2691a2884a0ddca220c061ac5b7c4f12a00bd65845c0ab51600e39fa096c1367825966958e2c0f922cc26c5818f329b658719c03e76dec12cbcfa40e12b446f446696b8800f6a8f9d5484eeffd1fcc6877ebf5ae5faeb8353ad29be9d903ba3fd19c196a8850dffa3bdf9ae4ec61735f0c79b3d4aac0d2790e55bce42e49b1f5e17ed034027c27b31a3e9e31b581b7693870670d358523ccd212f37e769d6629a8562261cc2ea54d6582dd0af772055868fb09456772988b5ad749e2855b60e27c4a44a389203d62d24ab18eb4'\n",
        "\n",
        "KAGGLE_INPUT_PATH='/kaggle/input'\n",
        "KAGGLE_WORKING_PATH='/kaggle/working'\n",
        "KAGGLE_SYMLINK='kaggle'\n",
        "\n",
        "!umount /kaggle/input/ 2> /dev/null\n",
        "shutil.rmtree('/kaggle/input', ignore_errors=True)\n",
        "os.makedirs(KAGGLE_INPUT_PATH, 0o777, exist_ok=True)\n",
        "os.makedirs(KAGGLE_WORKING_PATH, 0o777, exist_ok=True)\n",
        "\n",
        "try:\n",
        "  os.symlink(KAGGLE_INPUT_PATH, os.path.join(\"..\", 'input'), target_is_directory=True)\n",
        "except FileExistsError:\n",
        "  pass\n",
        "try:\n",
        "  os.symlink(KAGGLE_WORKING_PATH, os.path.join(\"..\", 'working'), target_is_directory=True)\n",
        "except FileExistsError:\n",
        "  pass\n",
        "\n",
        "for data_source_mapping in DATA_SOURCE_MAPPING.split(','):\n",
        "    directory, download_url_encoded = data_source_mapping.split(':')\n",
        "    download_url = unquote(download_url_encoded)\n",
        "    filename = urlparse(download_url).path\n",
        "    destination_path = os.path.join(KAGGLE_INPUT_PATH, directory)\n",
        "    try:\n",
        "        with urlopen(download_url) as fileres, NamedTemporaryFile() as tfile:\n",
        "            total_length = fileres.headers['content-length']\n",
        "            print(f'Downloading {directory}, {total_length} bytes compressed')\n",
        "            dl = 0\n",
        "            data = fileres.read(CHUNK_SIZE)\n",
        "            while len(data) > 0:\n",
        "                dl += len(data)\n",
        "                tfile.write(data)\n",
        "                done = int(50 * dl / int(total_length))\n",
        "                sys.stdout.write(f\"\\r[{'=' * done}{' ' * (50-done)}] {dl} bytes downloaded\")\n",
        "                sys.stdout.flush()\n",
        "                data = fileres.read(CHUNK_SIZE)\n",
        "            if filename.endswith('.zip'):\n",
        "              with ZipFile(tfile) as zfile:\n",
        "                zfile.extractall(destination_path)\n",
        "            else:\n",
        "              with tarfile.open(tfile.name) as tarfile:\n",
        "                tarfile.extractall(destination_path)\n",
        "            print(f'\\nDownloaded and uncompressed: {directory}')\n",
        "    except HTTPError as e:\n",
        "        print(f'Failed to load (likely expired) {download_url} to path {destination_path}')\n",
        "        continue\n",
        "    except OSError as e:\n",
        "        print(f'Failed to load {download_url} to path {destination_path}')\n",
        "        continue\n",
        "\n",
        "print('Data source import complete.')\n"
      ],
      "metadata": {
        "id": "DVSLgPCC2_bv"
      },
      "cell_type": "code",
      "outputs": [],
      "execution_count": null
    },
    {
      "cell_type": "markdown",
      "source": [
        "<div style=\"display:fill;\n",
        "            border-radius:15px;\n",
        "            background-color:#00bd35;\n",
        "            font-size:210%;\n",
        "            font-family:cursive;\n",
        "            letter-spacing:0.5px;\n",
        "            padding:10px;\n",
        "            color:white;\n",
        "            border-style: solid;\n",
        "            border-color: black;\n",
        "            text-align:center;\">\n",
        "<b>\n",
        "🌱🍎Suitable crop for suitable soil 🌾🌿</b>\n",
        "</div>"
      ],
      "metadata": {
        "id": "blOVV33O2_b4"
      }
    },
    {
      "cell_type": "code",
      "source": [],
      "metadata": {
        "id": "0YEY1Ruu2_b9"
      },
      "execution_count": null,
      "outputs": []
    },
    {
      "cell_type": "markdown",
      "source": [
        "<h1><b>1 <span style='color:#00bd35;'>|</span> Importing Libraries and Loading dataset</b></h1>\n",
        "\n",
        "<div style=\"color:white;\n",
        "            display:fill;\n",
        "            border-radius:8px;\n",
        "            background-color:#2b2b2b;\n",
        "            font-size:120%;\n",
        "            font-family:fantasy;\n",
        "            letter-spacing:0.5px\">\n",
        "    <p style=\"padding: 8px;color:white;\"><b>1.1 | Names and uses</b></p>\n",
        "</div>\n",
        "\n",
        "<ul>\n",
        "    <li style=\"font-size:15px\"><h4 style=\"line-height:25px\"><mark style=\"background-color:#00bd35;color:white;border-radius:4px;\"><b>Pandas</b></mark> for handling the data. It contains n number of function for data handling.<a href=\"https://github.com/Dhamu785/py/tree/master/pandas\"> Refer</a></h4></li>\n",
        "    <li style=\"font-size:15px\"><h4 style=\"line-height:25px\"><mark style=\"background-color:#00bd35;color:white;border-radius:4px;\"><b>Numpy</b></mark> for creating and handling the array.</h4></li>\n",
        "    <li style=\"font-size:15px\"><h4 style=\"line-height:25px\">\n",
        "        <mark style=\"background-color:#00bd35;color:white;border-radius:4px;\">\n",
        "            <b>Matplotlib</b>\n",
        "        </mark>\n",
        "        for visualizing the data. It also hulpfull in finding patterns in the dataset.<a href=\"https://www.kaggle.com/dhamur/matplotlib-different-charts\"> Refer</a></h4></li>\n",
        "    <li style=\"font-size:15px\"><h4 style=\"line-height:25px\"><mark style=\"background-color:#00bd35;color:white;border-radius:4px;\"><b>Seaborn</b></mark> is a library for making statistical graphics in Python. It builds on top of matplotlib and integrates closely with pandas data structures. Seaborn helps you explore and understand your data.</h4></li>\n",
        "    <li style=\"font-size:15px\"><h4 style=\"line-height:25px\"><mark style=\"background-color:#00bd35;color:white;border-radius:4px;\"><b>Scikit-learn (Sklearn)</b></mark> is the most useful and robust library for machine learning in Python. It provides a selection of efficient tools for <mark style=\"background-color:#00bd35;color:white;border-radius:4px;\"><b>machine learning and statistical modeling</b></mark> including classification, regression, clustering and dimensionality reduction via a consistence interface in Python.</h4></li>\n",
        "\n",
        "</ul>"
      ],
      "metadata": {
        "id": "K8jZ47Qg2_b9"
      }
    },
    {
      "cell_type": "code",
      "source": [
        "import pandas as pd\n",
        "import numpy as np\n",
        "import matplotlib.pyplot as plt\n",
        "import seaborn as sns\n",
        "from sklearn import model_selection\n",
        "from sklearn import preprocessing\n",
        "from sklearn.tree import DecisionTreeClassifier\n",
        "from sklearn.pipeline import make_pipeline\n",
        "from sklearn.svm import SVC\n",
        "from sklearn.ensemble import RandomForestClassifier\n",
        "from sklearn.neighbors import KNeighborsClassifier\n",
        "from sklearn.metrics import confusion_matrix, classification_report\n",
        "from sklearn.ensemble import BaggingClassifier"
      ],
      "metadata": {
        "_uuid": "8f2839f25d086af736a60e9eeb907d3b93b6e0e5",
        "_cell_guid": "b1076dfc-b9ad-4769-8c92-a6c4dae69d19",
        "execution": {
          "iopub.status.busy": "2022-05-03T17:06:07.012657Z",
          "iopub.execute_input": "2022-05-03T17:06:07.013315Z",
          "iopub.status.idle": "2022-05-03T17:06:08.78668Z",
          "shell.execute_reply.started": "2022-05-03T17:06:07.013201Z",
          "shell.execute_reply": "2022-05-03T17:06:08.785086Z"
        },
        "trusted": true,
        "id": "Bm5Tatqb2_b_"
      },
      "execution_count": null,
      "outputs": []
    },
    {
      "cell_type": "markdown",
      "source": [
        "<div style=\"color:white;\n",
        "            display:fill;\n",
        "            border-radius:8px;\n",
        "            background-color:#2b2b2b;\n",
        "            font-size:120%;\n",
        "            font-family:fantasy;\n",
        "            letter-spacing:0.5px\">\n",
        "    <p style=\"padding: 8px;color:white;\"><b>1.2 | Loading and reading the data</b></p>\n",
        "</div>\n",
        "<h4 style=\"line-height:30px\">This is dataset which is used to recommend the crop for the suitable soil. This will be very useful in crop production (Agriculture) without looses based on soli ph, rainfall, humadity and other chemical components present in the soil. </h4>"
      ],
      "metadata": {
        "id": "kVy0sueB2_cA"
      }
    },
    {
      "cell_type": "code",
      "source": [
        "df = pd.read_csv('../input/smart-agricultural-production-optimizing-engine/Crop_recommendation.csv')"
      ],
      "metadata": {
        "execution": {
          "iopub.status.busy": "2022-05-03T17:06:08.789217Z",
          "iopub.execute_input": "2022-05-03T17:06:08.7902Z",
          "iopub.status.idle": "2022-05-03T17:06:08.817793Z",
          "shell.execute_reply.started": "2022-05-03T17:06:08.790128Z",
          "shell.execute_reply": "2022-05-03T17:06:08.816983Z"
        },
        "trusted": true,
        "id": "jf0xeS2P2_cB"
      },
      "execution_count": null,
      "outputs": []
    },
    {
      "cell_type": "markdown",
      "source": [
        "<div style=\"color:white;\n",
        "            display:fill;\n",
        "            border-radius:8px;\n",
        "            background-color:#2b2b2b;\n",
        "            font-size:120%;\n",
        "            font-family:fantasy;\n",
        "            letter-spacing:0.5px\">\n",
        "    <p style=\"padding: 8px;color:white;\"><b>1.3 | About the data</b></p>\n",
        "</div>\n",
        "<ul>\n",
        "    <li><h4 style=\"line-height:25px\"><mark style=\"background-color:#00bd35;color:white;border-radius:4px;\"><b>Nitrogen</b></mark> is so vital because it is a <mark style=\"background-color:#00bd35;color:white;border-radius:4px;\"><b>major component of chlorophyll</b></mark>, the compound by which plants use sunlight energy to produce sugars from water and carbon dioxide (i.e., photosynthesis). It is also a major component of amino acids, the building blocks of proteins. Without proteins, plants wither and die.</h4></li>\n",
        "    <hr>\n",
        "    <li><h4 style=\"line-height:25px;\"><mark style=\"background-color:#00bd35;color:white;border-radius:4px;\"><b>Phosphorus</b></mark> is, therefore, important in <mark style=\"background-color:#00bd35;color:white;border-radius:4px;\"><b>cell division and development of new tissue.</b></mark> Phosphorus is also associated with complex energy transformations in the plant. Adding phosphorus to soil low in available phosphorus promotes root growth and winter hardiness, stimulates tillering, and often hastens maturity.</h4></li>\n",
        "    <hr>\n",
        "    <li><h4 style=\"line-height:25px\"><mark style=\"background-color:#00bd35;color:white;border-radius:4px;\"><b>Potassium</b></mark> is a critical nutrient that plants absorb from the soil, and from fertilizer. It <mark style=\"background-color:#00bd35;color:white;border-radius:4px;\"><b>increases disease resistance</b></mark>, helps stalks to grow upright and sturdy, improves drought tolerance, and helps plants get through the winter.</h4></li>\n",
        "    <hr>\n",
        "    <li><h4 style=\"line-height:25px\">The average <mark style=\"background-color:#00bd35;color:white;border-radius:4px;\"><b>soil temperatures</b></mark> for bioactivity range from 50 to 75F. These values are favorable for normal life functions of earth biota that ensure proper organic matter decomposition, <mark style=\"background-color:#00bd35;color:white;border-radius:4px;\"><b>increased nitrogen mineralization</b></mark>, uptake of soluble substances, and metabolism.</h4></li>\n",
        "    <hr>\n",
        "    <li><h4 style=\"line-height:25px\">The pH range <mark style=\"background-color:#00bd35;color:white;border-radius:4px;\"><b>5.5–6.5</b></mark> is optimal for plant growth as the availability of nutrients is optimal.</h4></li>\n",
        "    <hr>\n",
        "    <li><h4 style=\"line-height:25px\">Besides disease, <mark style=\"background-color:#00bd35;color:white;border-radius:4px;\"><b>rainfall</b></mark> can also determine how fast a crop will grow from seed, including when it will be ready for harvesting. A good balance of rain and proper irrigation can lead to <mark style=\"background-color:#00bd35;color:white;border-radius:4px;\"><b>faster-growing plants</b></mark>, which can cut down on germination time and the length between seeding and harvest.</h4></li>\n",
        "    <hr>\n",
        "</ul>"
      ],
      "metadata": {
        "id": "nVmsOyrT2_cD"
      }
    },
    {
      "cell_type": "code",
      "source": [
        "df.head()"
      ],
      "metadata": {
        "execution": {
          "iopub.status.busy": "2022-05-03T17:06:08.821086Z",
          "iopub.execute_input": "2022-05-03T17:06:08.821378Z",
          "iopub.status.idle": "2022-05-03T17:06:08.847138Z",
          "shell.execute_reply.started": "2022-05-03T17:06:08.821347Z",
          "shell.execute_reply": "2022-05-03T17:06:08.84646Z"
        },
        "trusted": true,
        "id": "AiNLNmxA2_cE"
      },
      "execution_count": null,
      "outputs": []
    },
    {
      "cell_type": "code",
      "source": [
        "print(\"Shape of the dataframe: \",df.shape)\n",
        "df.isna().sum()"
      ],
      "metadata": {
        "execution": {
          "iopub.status.busy": "2022-05-03T17:06:08.848102Z",
          "iopub.execute_input": "2022-05-03T17:06:08.84907Z",
          "iopub.status.idle": "2022-05-03T17:06:08.86134Z",
          "shell.execute_reply.started": "2022-05-03T17:06:08.848999Z",
          "shell.execute_reply": "2022-05-03T17:06:08.859897Z"
        },
        "trusted": true,
        "id": "zHC3EMA-2_cF"
      },
      "execution_count": null,
      "outputs": []
    },
    {
      "cell_type": "code",
      "source": [
        "df.info()"
      ],
      "metadata": {
        "execution": {
          "iopub.status.busy": "2022-05-03T17:06:08.863681Z",
          "iopub.execute_input": "2022-05-03T17:06:08.863936Z",
          "iopub.status.idle": "2022-05-03T17:06:08.898904Z",
          "shell.execute_reply.started": "2022-05-03T17:06:08.863904Z",
          "shell.execute_reply": "2022-05-03T17:06:08.897819Z"
        },
        "trusted": true,
        "id": "-nWXtPP12_cG"
      },
      "execution_count": null,
      "outputs": []
    },
    {
      "cell_type": "code",
      "source": [
        "df.describe()"
      ],
      "metadata": {
        "execution": {
          "iopub.status.busy": "2022-05-03T17:06:08.900166Z",
          "iopub.execute_input": "2022-05-03T17:06:08.900394Z",
          "iopub.status.idle": "2022-05-03T17:06:08.950732Z",
          "shell.execute_reply.started": "2022-05-03T17:06:08.900355Z",
          "shell.execute_reply": "2022-05-03T17:06:08.949935Z"
        },
        "trusted": true,
        "id": "_-jdLo482_cH"
      },
      "execution_count": null,
      "outputs": []
    },
    {
      "cell_type": "code",
      "source": [
        "df.dtypes"
      ],
      "metadata": {
        "execution": {
          "iopub.status.busy": "2022-05-03T17:06:08.951657Z",
          "iopub.execute_input": "2022-05-03T17:06:08.951926Z",
          "iopub.status.idle": "2022-05-03T17:06:08.961507Z",
          "shell.execute_reply.started": "2022-05-03T17:06:08.951889Z",
          "shell.execute_reply": "2022-05-03T17:06:08.96004Z"
        },
        "trusted": true,
        "id": "kQ-9wlQx2_cI"
      },
      "execution_count": null,
      "outputs": []
    },
    {
      "cell_type": "markdown",
      "source": [
        "\n",
        "<h1><b>2 <span style='color:#00bd35;'>|</span> 🎯📊EDA-Exploratory data analysis📈📉</b></h1>\n",
        "\n",
        "<div style=\"color:white;\n",
        "            display:fill;\n",
        "            border-radius:8px;\n",
        "            background-color:#2b2b2b;\n",
        "            font-size:120%;\n",
        "            font-family:fantasy;\n",
        "            letter-spacing:0.5px\">\n",
        "    <p style=\"padding: 8px;color:white;\"><b>2.1 | Data distribution</b></p>\n",
        "</div>\n"
      ],
      "metadata": {
        "id": "XrXroRBj2_cI"
      }
    },
    {
      "cell_type": "code",
      "source": [
        "sns.displot(x=df['N'], bins=20,kde=True,edgecolor=\"black\",color='black',facecolor='#ffb03b')\n",
        "plt.title(\"Nitrogen\",size=20)\n",
        "plt.show()"
      ],
      "metadata": {
        "execution": {
          "iopub.status.busy": "2022-05-03T17:06:08.96343Z",
          "iopub.execute_input": "2022-05-03T17:06:08.963744Z",
          "iopub.status.idle": "2022-05-03T17:06:09.319293Z",
          "shell.execute_reply.started": "2022-05-03T17:06:08.963705Z",
          "shell.execute_reply": "2022-05-03T17:06:09.318532Z"
        },
        "trusted": true,
        "id": "Mfx_jsR02_cJ"
      },
      "execution_count": null,
      "outputs": []
    },
    {
      "cell_type": "code",
      "source": [
        "sns.displot(x=df['P'],bins=20,color='black',edgecolor='black',kde=True,facecolor='#ffb03b')\n",
        "plt.title(\"Phosphorus\", size=20)\n",
        "plt.xticks(range(0,150,20))\n",
        "plt.show()"
      ],
      "metadata": {
        "execution": {
          "iopub.status.busy": "2022-05-03T17:06:09.320533Z",
          "iopub.execute_input": "2022-05-03T17:06:09.320743Z",
          "iopub.status.idle": "2022-05-03T17:06:09.609388Z",
          "shell.execute_reply.started": "2022-05-03T17:06:09.320716Z",
          "shell.execute_reply": "2022-05-03T17:06:09.608366Z"
        },
        "trusted": true,
        "id": "wgeOWMPc2_cJ"
      },
      "execution_count": null,
      "outputs": []
    },
    {
      "cell_type": "code",
      "source": [
        "sns.displot(x=df['K'],kde=True, bins=20, facecolor='#ffb03b',edgecolor='black', color='black')\n",
        "plt.title(\"Potassium\",size=20)\n",
        "plt.show()"
      ],
      "metadata": {
        "execution": {
          "iopub.status.busy": "2022-05-03T17:06:09.611271Z",
          "iopub.execute_input": "2022-05-03T17:06:09.611563Z",
          "iopub.status.idle": "2022-05-03T17:06:09.923374Z",
          "shell.execute_reply.started": "2022-05-03T17:06:09.611526Z",
          "shell.execute_reply": "2022-05-03T17:06:09.922198Z"
        },
        "trusted": true,
        "id": "DAhh2KwF2_cK"
      },
      "execution_count": null,
      "outputs": []
    },
    {
      "cell_type": "code",
      "source": [
        "sns.displot(x=df['temperature'], bins=20,kde=True,edgecolor=\"black\",color='black',facecolor='#ffb03b')\n",
        "plt.title(\"Temperature\",size=20)\n",
        "plt.show()"
      ],
      "metadata": {
        "execution": {
          "iopub.status.busy": "2022-05-03T17:06:09.924719Z",
          "iopub.execute_input": "2022-05-03T17:06:09.925385Z",
          "iopub.status.idle": "2022-05-03T17:06:10.234114Z",
          "shell.execute_reply.started": "2022-05-03T17:06:09.925346Z",
          "shell.execute_reply": "2022-05-03T17:06:10.233567Z"
        },
        "trusted": true,
        "id": "ZT_m-JnA2_cK"
      },
      "execution_count": null,
      "outputs": []
    },
    {
      "cell_type": "code",
      "source": [
        "sns.displot(x=df['humidity'], color='black',facecolor='#ffb03b',kde=True,edgecolor='black')\n",
        "plt.title(\"Humidity\",size=20)\n",
        "plt.show()"
      ],
      "metadata": {
        "execution": {
          "iopub.status.busy": "2022-05-03T17:06:10.235053Z",
          "iopub.execute_input": "2022-05-03T17:06:10.235983Z",
          "iopub.status.idle": "2022-05-03T17:06:10.526228Z",
          "shell.execute_reply.started": "2022-05-03T17:06:10.235943Z",
          "shell.execute_reply": "2022-05-03T17:06:10.525129Z"
        },
        "trusted": true,
        "id": "bF-dR3pz2_cK"
      },
      "execution_count": null,
      "outputs": []
    },
    {
      "cell_type": "code",
      "source": [
        "sns.displot(x=df['rainfall'], color='black',facecolor='#ffb03b',kde=True,edgecolor='black')\n",
        "plt.title(\"Rainfall\",size=20)\n",
        "plt.show()"
      ],
      "metadata": {
        "execution": {
          "iopub.status.busy": "2022-05-03T17:06:10.527611Z",
          "iopub.execute_input": "2022-05-03T17:06:10.527902Z",
          "iopub.status.idle": "2022-05-03T17:06:11.020273Z",
          "shell.execute_reply.started": "2022-05-03T17:06:10.527862Z",
          "shell.execute_reply": "2022-05-03T17:06:11.0196Z"
        },
        "trusted": true,
        "id": "Fk6jMVyH2_cK"
      },
      "execution_count": null,
      "outputs": []
    },
    {
      "cell_type": "markdown",
      "source": [
        "<div style=\"color:white;\n",
        "            display:fill;\n",
        "            border-radius:8px;\n",
        "            background-color:#2b2b2b;\n",
        "            font-size:120%;\n",
        "            font-family:fantasy;\n",
        "            letter-spacing:0.5px\">\n",
        "    <p style=\"padding: 8px;color:white;\"><b>2.2 | Categorical plot </b></p>\n",
        "</div>\n"
      ],
      "metadata": {
        "id": "hIP9Jz1h2_cK"
      }
    },
    {
      "cell_type": "code",
      "source": [
        "sns.relplot(x='rainfall',y='temperature',data=df,kind='scatter',hue='label',height=5)\n",
        "plt.show()"
      ],
      "metadata": {
        "execution": {
          "iopub.status.busy": "2022-05-03T17:06:11.02431Z",
          "iopub.execute_input": "2022-05-03T17:06:11.025374Z",
          "iopub.status.idle": "2022-05-03T17:06:12.31149Z",
          "shell.execute_reply.started": "2022-05-03T17:06:11.025301Z",
          "shell.execute_reply": "2022-05-03T17:06:12.31033Z"
        },
        "trusted": true,
        "id": "DhU6GabL2_cL"
      },
      "execution_count": null,
      "outputs": []
    },
    {
      "cell_type": "code",
      "source": [
        "sns.pairplot(data=df,hue='label')\n",
        "plt.show()"
      ],
      "metadata": {
        "execution": {
          "iopub.status.busy": "2022-05-03T17:06:12.312705Z",
          "iopub.execute_input": "2022-05-03T17:06:12.314052Z",
          "iopub.status.idle": "2022-05-03T17:06:48.365502Z",
          "shell.execute_reply.started": "2022-05-03T17:06:12.313983Z",
          "shell.execute_reply": "2022-05-03T17:06:48.364465Z"
        },
        "trusted": true,
        "id": "fnXzBGaM2_cL"
      },
      "execution_count": null,
      "outputs": []
    },
    {
      "cell_type": "markdown",
      "source": [
        "<div style=\"color:white;\n",
        "            display:fill;\n",
        "            border-radius:8px;\n",
        "            background-color:#2b2b2b;\n",
        "            font-size:120%;\n",
        "            font-family:fantasy;\n",
        "            letter-spacing:0.5px\">\n",
        "    <p style=\"padding: 8px;color:white;\"><b>2.3 | Outerlier detection using graphs</b></p>\n",
        "</div>\n"
      ],
      "metadata": {
        "id": "PPqN1bCT2_cM"
      }
    },
    {
      "cell_type": "code",
      "source": [
        "# Unique values in the label column\n",
        "\n",
        "crops = df['label'].unique()\n",
        "print(len(crops))\n",
        "print(crops)\n",
        "print(pd.value_counts(df['label']))"
      ],
      "metadata": {
        "execution": {
          "iopub.status.busy": "2022-05-03T17:06:48.366709Z",
          "iopub.execute_input": "2022-05-03T17:06:48.366951Z",
          "iopub.status.idle": "2022-05-03T17:06:48.37621Z",
          "shell.execute_reply.started": "2022-05-03T17:06:48.366915Z",
          "shell.execute_reply": "2022-05-03T17:06:48.374856Z"
        },
        "trusted": true,
        "id": "v1IYE6zJ2_cM"
      },
      "execution_count": null,
      "outputs": []
    },
    {
      "cell_type": "code",
      "source": [
        "# Filtering each unique label and store it in a list df2 for to plot the box plot\n",
        "\n",
        "df2=[]\n",
        "for i in crops:\n",
        "    df2.append(df[df['label'] == i])\n",
        "df2[1].head()"
      ],
      "metadata": {
        "execution": {
          "iopub.status.busy": "2022-05-03T17:06:48.377507Z",
          "iopub.execute_input": "2022-05-03T17:06:48.377754Z",
          "iopub.status.idle": "2022-05-03T17:06:48.417256Z",
          "shell.execute_reply.started": "2022-05-03T17:06:48.377722Z",
          "shell.execute_reply": "2022-05-03T17:06:48.416268Z"
        },
        "trusted": true,
        "id": "4xfpbkeL2_cM"
      },
      "execution_count": null,
      "outputs": []
    },
    {
      "cell_type": "code",
      "source": [
        "sns.catplot(data=df, x='label', y='temperature', kind='box', height=10, aspect=20/8.27)\n",
        "# plt.xticks(rotation='vertical')\n",
        "plt.title(\"Temperature\", size=20)\n",
        "plt.show()"
      ],
      "metadata": {
        "execution": {
          "iopub.status.busy": "2022-05-03T17:06:48.418603Z",
          "iopub.execute_input": "2022-05-03T17:06:48.418867Z",
          "iopub.status.idle": "2022-05-03T17:06:49.101843Z",
          "shell.execute_reply.started": "2022-05-03T17:06:48.418838Z",
          "shell.execute_reply": "2022-05-03T17:06:49.100836Z"
        },
        "trusted": true,
        "id": "3k4WQ5_a2_cM"
      },
      "execution_count": null,
      "outputs": []
    },
    {
      "cell_type": "code",
      "source": [
        "sns.catplot(data=df, x='label', y='humidity', kind='box', height=10, aspect=20/8.27)\n",
        "# plt.xticks(rotation='vertical')\n",
        "plt.title(\"Humidity\", size=20)\n",
        "plt.show()"
      ],
      "metadata": {
        "execution": {
          "iopub.status.busy": "2022-05-03T17:06:49.103026Z",
          "iopub.execute_input": "2022-05-03T17:06:49.103245Z",
          "iopub.status.idle": "2022-05-03T17:06:49.772302Z",
          "shell.execute_reply.started": "2022-05-03T17:06:49.103211Z",
          "shell.execute_reply": "2022-05-03T17:06:49.771233Z"
        },
        "trusted": true,
        "id": "385FPp3x2_cM"
      },
      "execution_count": null,
      "outputs": []
    },
    {
      "cell_type": "code",
      "source": [
        "sns.catplot(data=df, x='label', y='temperature', kind='box', height=10, aspect=20/8.27)\n",
        "plt.show()\n"
      ],
      "metadata": {
        "execution": {
          "iopub.status.busy": "2022-05-03T17:06:49.773962Z",
          "iopub.execute_input": "2022-05-03T17:06:49.774555Z",
          "iopub.status.idle": "2022-05-03T17:06:50.455325Z",
          "shell.execute_reply.started": "2022-05-03T17:06:49.774522Z",
          "shell.execute_reply": "2022-05-03T17:06:50.454119Z"
        },
        "trusted": true,
        "id": "IRPVRFJ02_cM"
      },
      "execution_count": null,
      "outputs": []
    },
    {
      "cell_type": "code",
      "source": [
        "sns.catplot(data=df, x='label', y='N', kind='box', height=10, aspect=20/8.27)\n",
        "# plt.xticks(rotation='vertical')\n",
        "plt.show()"
      ],
      "metadata": {
        "execution": {
          "iopub.status.busy": "2022-05-03T17:06:50.456857Z",
          "iopub.execute_input": "2022-05-03T17:06:50.457138Z",
          "iopub.status.idle": "2022-05-03T17:06:51.131325Z",
          "shell.execute_reply.started": "2022-05-03T17:06:50.457099Z",
          "shell.execute_reply": "2022-05-03T17:06:51.130071Z"
        },
        "trusted": true,
        "id": "QyL4sZ7Y2_cN"
      },
      "execution_count": null,
      "outputs": []
    },
    {
      "cell_type": "code",
      "source": [
        "sns.catplot(data=df, x='label', y='ph', kind='box', height=10, aspect=20/8.27)\n",
        "# plt.xticks(rotation='vertical')\n",
        "plt.title(\"Nitrogen\",size=20)\n",
        "plt.show()"
      ],
      "metadata": {
        "execution": {
          "iopub.status.busy": "2022-05-03T17:06:51.132848Z",
          "iopub.execute_input": "2022-05-03T17:06:51.133159Z",
          "iopub.status.idle": "2022-05-03T17:06:51.813101Z",
          "shell.execute_reply.started": "2022-05-03T17:06:51.133116Z",
          "shell.execute_reply": "2022-05-03T17:06:51.811529Z"
        },
        "trusted": true,
        "id": "z0QGxFTq2_cN"
      },
      "execution_count": null,
      "outputs": []
    },
    {
      "cell_type": "code",
      "source": [
        "sns.catplot(data=df, x='label', y='P', kind='box', height=10, aspect=20/8.27)\n",
        "# plt.xticks(rotation='vertical')\n",
        "plt.title(\"Phosphorus\",size=20)\n",
        "plt.show()"
      ],
      "metadata": {
        "execution": {
          "iopub.status.busy": "2022-05-03T17:06:51.814801Z",
          "iopub.execute_input": "2022-05-03T17:06:51.815088Z",
          "iopub.status.idle": "2022-05-03T17:06:52.993016Z",
          "shell.execute_reply.started": "2022-05-03T17:06:51.815048Z",
          "shell.execute_reply": "2022-05-03T17:06:52.991542Z"
        },
        "trusted": true,
        "id": "j3HjPzxj2_cO"
      },
      "execution_count": null,
      "outputs": []
    },
    {
      "cell_type": "code",
      "source": [
        "sns.catplot(data=df, x='label', y='K', kind='box', height=10, aspect=20/8.27)\n",
        "# plt.xticks(rotation='vertical')\n",
        "plt.title(\"Potassium\",size=20)\n",
        "plt.show()"
      ],
      "metadata": {
        "execution": {
          "iopub.status.busy": "2022-05-03T17:06:52.994285Z",
          "iopub.execute_input": "2022-05-03T17:06:52.994553Z",
          "iopub.status.idle": "2022-05-03T17:06:53.657384Z",
          "shell.execute_reply.started": "2022-05-03T17:06:52.994522Z",
          "shell.execute_reply": "2022-05-03T17:06:53.656265Z"
        },
        "trusted": true,
        "id": "Bcf9bPdJ2_cO"
      },
      "execution_count": null,
      "outputs": []
    },
    {
      "cell_type": "markdown",
      "source": [
        "<div style=\"color:white;\n",
        "            display:fill;\n",
        "            border-radius:8px;\n",
        "            background-color:white;\n",
        "            font-size:120%;\n",
        "            font-family:fantasy;\n",
        "            letter-spacing:0.5px\">\n",
        "    <p style=\"padding: 8px;\n",
        "              color:black;\n",
        "              text-align:center;\"><b>These graphs shows that thers is no outliers present in this dataset</b></p>\n",
        "</div>\n",
        "\n",
        "<div style=\"color:white;\n",
        "            display:fill;\n",
        "            border-radius:8px;\n",
        "            background-color:#2b2b2b;\n",
        "            font-size:120%;\n",
        "            font-family:fantasy;\n",
        "            letter-spacing:0.5px\">\n",
        "    <p style=\"padding: 8px;color:white;\"><b>2.4 | Lets check through Mathematics (Statistics)</b></p>\n",
        "</div>\n"
      ],
      "metadata": {
        "id": "ta05c9xf2_cO"
      }
    },
    {
      "cell_type": "code",
      "source": [
        "def detect_outlier(x):\n",
        "    q1 = x.quantile(0.25)\n",
        "    q3 = x.quantile(0.75)\n",
        "    IQR = q3-q1\n",
        "    lower_limit = q1 - (1.5*IQR)\n",
        "    upper_limit = q3 + (1.5*IQR)\n",
        "    print(f\"Lower limit: {lower_limit} Upper limit: {upper_limit}\")\n",
        "    print(f\"Minimum value: {x.min()}   MAximum Value: {x.max()}\")\n",
        "    for i in [x.min(),x.max()]:\n",
        "        if i == x.min():\n",
        "            if lower_limit > x.min():\n",
        "                print(\"Lower limit failed - Need to remove minimum value\")\n",
        "            elif lower_limit < x.min():\n",
        "                print(\"Lower limit passed - No need to remove outlier\")\n",
        "        elif i == x.max():\n",
        "            if upper_limit > x.max():\n",
        "                print(\"Upper limit passed - No need to remove outlier\")\n",
        "            elif upper_limit < x.max():\n",
        "                print(\"Upper limit failed - Need to remove maximum value\")\n",
        "detect_outlier(df['K'][df['label']=='grapes'])"
      ],
      "metadata": {
        "execution": {
          "iopub.status.busy": "2022-05-03T17:06:53.658602Z",
          "iopub.execute_input": "2022-05-03T17:06:53.658816Z",
          "iopub.status.idle": "2022-05-03T17:06:53.674299Z",
          "shell.execute_reply.started": "2022-05-03T17:06:53.658788Z",
          "shell.execute_reply": "2022-05-03T17:06:53.673242Z"
        },
        "trusted": true,
        "id": "5jd318dM2_cP"
      },
      "execution_count": null,
      "outputs": []
    },
    {
      "cell_type": "code",
      "source": [
        "for i in df['label'].unique():\n",
        "    detect_outlier(df['K'][df['label']==i])\n",
        "    print('---------------------------------------------')"
      ],
      "metadata": {
        "execution": {
          "iopub.status.busy": "2022-05-03T17:06:53.675587Z",
          "iopub.execute_input": "2022-05-03T17:06:53.67587Z",
          "iopub.status.idle": "2022-05-03T17:06:53.776535Z",
          "shell.execute_reply.started": "2022-05-03T17:06:53.675834Z",
          "shell.execute_reply": "2022-05-03T17:06:53.775632Z"
        },
        "trusted": true,
        "id": "413AeOoY2_cP"
      },
      "execution_count": null,
      "outputs": []
    },
    {
      "cell_type": "markdown",
      "source": [
        "<div style=\"color:white;\n",
        "            display:fill;\n",
        "            border-radius:8px;\n",
        "            background-color:white;\n",
        "            font-size:120%;\n",
        "            font-family:fantasy;\n",
        "            letter-spacing:0.5px\">\n",
        "    <p style=\"padding: 8px;\n",
        "              color:black;\n",
        "              text-align:center;\"><b>These graphs shows that thers is no outliers present in this dataset and it is confirmed with the help of Statistics(IQR)</b></p>\n",
        "</div>\n",
        "\n",
        "<h1><b>3 <span style='color:#00bd35;'>|</span> 🎯📊Prediction🍅🥭🍎🍐</b></h1>\n",
        "\n",
        "<div style=\"color:white;\n",
        "            display:fill;\n",
        "            border-radius:8px;\n",
        "            background-color:#2b2b2b;\n",
        "            font-size:120%;\n",
        "            font-family:fantasy;\n",
        "            letter-spacing:0.5px\">\n",
        "    <p style=\"padding: 8px;color:white;\"><b>3.1 | Spliting the train and test data</b></p>\n",
        "</div>\n"
      ],
      "metadata": {
        "id": "rUfNOeb42_cQ"
      }
    },
    {
      "cell_type": "code",
      "source": [
        "x = df.drop(['label'], axis=1)\n",
        "x.head()"
      ],
      "metadata": {
        "execution": {
          "iopub.status.busy": "2022-05-03T17:06:53.77755Z",
          "iopub.execute_input": "2022-05-03T17:06:53.777816Z",
          "iopub.status.idle": "2022-05-03T17:06:53.794835Z",
          "shell.execute_reply.started": "2022-05-03T17:06:53.777762Z",
          "shell.execute_reply": "2022-05-03T17:06:53.793829Z"
        },
        "trusted": true,
        "id": "IP-tdM9f2_cQ"
      },
      "execution_count": null,
      "outputs": []
    },
    {
      "cell_type": "code",
      "source": [
        "Y = df['label']\n",
        "encode = preprocessing.LabelEncoder()\n",
        "y = encode.fit_transform(Y)\n",
        "print(\"Label length: \",len(y))"
      ],
      "metadata": {
        "execution": {
          "iopub.status.busy": "2022-05-03T17:06:53.796444Z",
          "iopub.execute_input": "2022-05-03T17:06:53.796662Z",
          "iopub.status.idle": "2022-05-03T17:06:53.814401Z",
          "shell.execute_reply.started": "2022-05-03T17:06:53.796635Z",
          "shell.execute_reply": "2022-05-03T17:06:53.812494Z"
        },
        "trusted": true,
        "id": "UlTCrTuk2_cQ"
      },
      "execution_count": null,
      "outputs": []
    },
    {
      "cell_type": "code",
      "source": [
        "x_train,x_test,y_train,y_test = model_selection.train_test_split(x,y)\n",
        "print(len(x_train),len(y_train),len(x_test),len(y_test))"
      ],
      "metadata": {
        "execution": {
          "iopub.status.busy": "2022-05-03T17:06:53.815761Z",
          "iopub.execute_input": "2022-05-03T17:06:53.816027Z",
          "iopub.status.idle": "2022-05-03T17:06:53.830846Z",
          "shell.execute_reply.started": "2022-05-03T17:06:53.815989Z",
          "shell.execute_reply": "2022-05-03T17:06:53.829704Z"
        },
        "trusted": true,
        "id": "N-X8dwMQ2_cc"
      },
      "execution_count": null,
      "outputs": []
    },
    {
      "cell_type": "markdown",
      "source": [
        "<div style=\"color:white;\n",
        "            display:fill;\n",
        "            border-radius:8px;\n",
        "            background-color:#2b2b2b;\n",
        "            font-size:120%;\n",
        "            font-family:fantasy;\n",
        "            letter-spacing:0.5px\">\n",
        "    <p style=\"padding: 8px;color:white;\"><b>3.2 | Best model choosing</b></p>\n",
        "</div>\n",
        "<div style=\"color:white;\n",
        "            display:fill;\n",
        "            border-radius:8px;\n",
        "            background-color:#636363;\n",
        "            font-size:120%;\n",
        "            font-family:fantasy;\n",
        "            letter-spacing:0.5px\">\n",
        "    <p style=\"padding: 8px;color:white;\"><i>3.2.1 <b>|</b> Decision Tree, Support vector mechanism, Random forest</i></p>\n",
        "</div>"
      ],
      "metadata": {
        "id": "LmbJJv5B2_cd"
      }
    },
    {
      "cell_type": "code",
      "source": [
        "a={'decision tree' : {\n",
        "        'model' : DecisionTreeClassifier(criterion='gini'),\n",
        "        'params':{'decisiontreeclassifier__splitter':['best','random']}\n",
        "    },\n",
        "    'svm': {\n",
        "        'model': SVC(gamma='auto',probability=True),\n",
        "        'params' : {\n",
        "            'svc__C': [1,10,100,1000],\n",
        "            'svc__kernel': ['rbf','linear']\n",
        "        }\n",
        "    },\n",
        "    'random_forest': {\n",
        "        'model': RandomForestClassifier(),\n",
        "        'params' : {\n",
        "            'randomforestclassifier__n_estimators': [1,5,10]\n",
        "        }\n",
        "    },\n",
        "   'k classifier':{\n",
        "       'model':KNeighborsClassifier(),\n",
        "       'params':{'kneighborsclassifier__n_neighbors':[5,10,20,25],'kneighborsclassifier__weights':['uniform','distance']}\n",
        "   }\n",
        "}"
      ],
      "metadata": {
        "execution": {
          "iopub.status.busy": "2022-05-03T17:06:53.832355Z",
          "iopub.execute_input": "2022-05-03T17:06:53.832621Z",
          "iopub.status.idle": "2022-05-03T17:06:53.844352Z",
          "shell.execute_reply.started": "2022-05-03T17:06:53.832583Z",
          "shell.execute_reply": "2022-05-03T17:06:53.843471Z"
        },
        "trusted": true,
        "id": "5SzPFVgb2_cd"
      },
      "execution_count": null,
      "outputs": []
    },
    {
      "cell_type": "code",
      "source": [
        "score=[]\n",
        "details = []\n",
        "best_param = {}\n",
        "for mdl,par in a.items():\n",
        "    pipe = make_pipeline(preprocessing.StandardScaler(),par['model'])\n",
        "    res = model_selection.GridSearchCV(pipe,par['params'],cv=5)\n",
        "    res.fit(x_train,y_train)\n",
        "    score.append({\n",
        "        'Model name':mdl,\n",
        "        'Best score':res.best_score_,\n",
        "        'Best param':res.best_params_\n",
        "    })\n",
        "    details.append(pd.DataFrame(res.cv_results_))\n",
        "    best_param[mdl]=res.best_estimator_\n",
        "pd.DataFrame(score)"
      ],
      "metadata": {
        "execution": {
          "iopub.status.busy": "2022-05-03T17:06:53.845457Z",
          "iopub.execute_input": "2022-05-03T17:06:53.845709Z",
          "iopub.status.idle": "2022-05-03T17:07:08.698544Z",
          "shell.execute_reply.started": "2022-05-03T17:06:53.84567Z",
          "shell.execute_reply": "2022-05-03T17:07:08.697768Z"
        },
        "trusted": true,
        "id": "h_gw3gof2_ce"
      },
      "execution_count": null,
      "outputs": []
    },
    {
      "cell_type": "code",
      "source": [
        "details[0]"
      ],
      "metadata": {
        "execution": {
          "iopub.status.busy": "2022-05-03T17:07:08.699645Z",
          "iopub.execute_input": "2022-05-03T17:07:08.700095Z",
          "iopub.status.idle": "2022-05-03T17:07:08.717016Z",
          "shell.execute_reply.started": "2022-05-03T17:07:08.700063Z",
          "shell.execute_reply": "2022-05-03T17:07:08.716366Z"
        },
        "trusted": true,
        "id": "bEE4QYTg2_ce"
      },
      "execution_count": null,
      "outputs": []
    },
    {
      "cell_type": "code",
      "source": [
        "details[1]"
      ],
      "metadata": {
        "execution": {
          "iopub.status.busy": "2022-05-03T17:07:08.71868Z",
          "iopub.execute_input": "2022-05-03T17:07:08.719009Z",
          "iopub.status.idle": "2022-05-03T17:07:08.753796Z",
          "shell.execute_reply.started": "2022-05-03T17:07:08.718973Z",
          "shell.execute_reply": "2022-05-03T17:07:08.752981Z"
        },
        "trusted": true,
        "id": "mz956YUY2_ce"
      },
      "execution_count": null,
      "outputs": []
    },
    {
      "cell_type": "code",
      "source": [
        "details[2]"
      ],
      "metadata": {
        "execution": {
          "iopub.status.busy": "2022-05-03T17:07:08.755023Z",
          "iopub.execute_input": "2022-05-03T17:07:08.755208Z",
          "iopub.status.idle": "2022-05-03T17:07:08.782023Z",
          "shell.execute_reply.started": "2022-05-03T17:07:08.755182Z",
          "shell.execute_reply": "2022-05-03T17:07:08.780873Z"
        },
        "trusted": true,
        "id": "WjIFrhMZ2_cf"
      },
      "execution_count": null,
      "outputs": []
    },
    {
      "cell_type": "code",
      "source": [
        "details[3]"
      ],
      "metadata": {
        "execution": {
          "iopub.status.busy": "2022-05-03T17:07:08.783605Z",
          "iopub.execute_input": "2022-05-03T17:07:08.783996Z",
          "iopub.status.idle": "2022-05-03T17:07:08.813086Z",
          "shell.execute_reply.started": "2022-05-03T17:07:08.783965Z",
          "shell.execute_reply": "2022-05-03T17:07:08.812023Z"
        },
        "trusted": true,
        "id": "UBal_ss_2_cf"
      },
      "execution_count": null,
      "outputs": []
    },
    {
      "cell_type": "code",
      "source": [
        "score"
      ],
      "metadata": {
        "execution": {
          "iopub.status.busy": "2022-05-03T17:07:08.814365Z",
          "iopub.execute_input": "2022-05-03T17:07:08.814997Z",
          "iopub.status.idle": "2022-05-03T17:07:08.830388Z",
          "shell.execute_reply.started": "2022-05-03T17:07:08.814929Z",
          "shell.execute_reply": "2022-05-03T17:07:08.829401Z"
        },
        "trusted": true,
        "id": "EBo97qzu2_cf"
      },
      "execution_count": null,
      "outputs": []
    },
    {
      "cell_type": "code",
      "source": [
        "pd.DataFrame(score)"
      ],
      "metadata": {
        "execution": {
          "iopub.status.busy": "2022-05-03T17:07:08.831835Z",
          "iopub.execute_input": "2022-05-03T17:07:08.832229Z",
          "iopub.status.idle": "2022-05-03T17:07:08.85422Z",
          "shell.execute_reply.started": "2022-05-03T17:07:08.832198Z",
          "shell.execute_reply": "2022-05-03T17:07:08.852991Z"
        },
        "trusted": true,
        "id": "IkfkoGb42_cg"
      },
      "execution_count": null,
      "outputs": []
    },
    {
      "cell_type": "code",
      "source": [
        "for i in best_param.keys():\n",
        "    print(f'{i} : {best_param[i].score(x_test,y_test)}')"
      ],
      "metadata": {
        "execution": {
          "iopub.status.busy": "2022-05-03T17:07:08.855575Z",
          "iopub.execute_input": "2022-05-03T17:07:08.855799Z",
          "iopub.status.idle": "2022-05-03T17:07:08.945453Z",
          "shell.execute_reply.started": "2022-05-03T17:07:08.855757Z",
          "shell.execute_reply": "2022-05-03T17:07:08.944437Z"
        },
        "trusted": true,
        "id": "DTaIP_FJ2_cg"
      },
      "execution_count": null,
      "outputs": []
    },
    {
      "cell_type": "markdown",
      "source": [
        "<div style=\"color:white;\n",
        "            display:fill;\n",
        "            border-radius:8px;\n",
        "            background-color:#636363;\n",
        "            font-size:120%;\n",
        "            font-family:fantasy;\n",
        "            letter-spacing:0.5px\">\n",
        "    <p style=\"padding: 8px;color:white;\"><i>3.2.2 <b>|</b> Best model - Random forest</i></p>\n",
        "</div>"
      ],
      "metadata": {
        "id": "7K1WT6N72_cg"
      }
    },
    {
      "cell_type": "code",
      "source": [
        "predicted = best_param['random_forest'].predict(x_test)\n",
        "predicted"
      ],
      "metadata": {
        "execution": {
          "iopub.status.busy": "2022-05-03T17:07:08.947713Z",
          "iopub.execute_input": "2022-05-03T17:07:08.948303Z",
          "iopub.status.idle": "2022-05-03T17:07:08.961674Z",
          "shell.execute_reply.started": "2022-05-03T17:07:08.948273Z",
          "shell.execute_reply": "2022-05-03T17:07:08.960822Z"
        },
        "trusted": true,
        "id": "F6AVv4po2_cg"
      },
      "execution_count": null,
      "outputs": []
    },
    {
      "cell_type": "code",
      "source": [
        "plt.figure(figsize=(12,8))\n",
        "sns.heatmap(confusion_matrix(y_test,predicted),annot=True)\n",
        "plt.xlabel(\"Original\")\n",
        "plt.ylabel(\"Predicted\")\n",
        "plt.show()"
      ],
      "metadata": {
        "execution": {
          "iopub.status.busy": "2022-05-03T17:07:08.963117Z",
          "iopub.execute_input": "2022-05-03T17:07:08.963453Z",
          "iopub.status.idle": "2022-05-03T17:07:10.785535Z",
          "shell.execute_reply.started": "2022-05-03T17:07:08.963425Z",
          "shell.execute_reply": "2022-05-03T17:07:10.78507Z"
        },
        "trusted": true,
        "id": "sZDkRZga2_ch"
      },
      "execution_count": null,
      "outputs": []
    },
    {
      "cell_type": "markdown",
      "source": [
        "<div style=\"color:white;\n",
        "            display:fill;\n",
        "            border-radius:8px;\n",
        "            background-color:#636363;\n",
        "            font-size:120%;\n",
        "            font-family:fantasy;\n",
        "            letter-spacing:0.5px\">\n",
        "    <p style=\"padding: 8px;color:white;\"><i>3.2.3 <b>|</b> Bagging classifier for more accuracy</i></p>\n",
        "</div>"
      ],
      "metadata": {
        "id": "5SHlq3TR2_ci"
      }
    },
    {
      "cell_type": "code",
      "source": [
        "pipe1 = make_pipeline(preprocessing.StandardScaler(),RandomForestClassifier(n_estimators = 10))\n",
        "bag_model = BaggingClassifier(base_estimator=pipe1,n_estimators=100,\n",
        "                              oob_score=True,random_state=0,max_samples=0.8)"
      ],
      "metadata": {
        "execution": {
          "iopub.status.busy": "2022-05-03T17:07:10.790595Z",
          "iopub.execute_input": "2022-05-03T17:07:10.79102Z",
          "iopub.status.idle": "2022-05-03T17:07:10.796457Z",
          "shell.execute_reply.started": "2022-05-03T17:07:10.79099Z",
          "shell.execute_reply": "2022-05-03T17:07:10.795053Z"
        },
        "trusted": true,
        "id": "a0Ys3bk62_ci"
      },
      "execution_count": null,
      "outputs": []
    },
    {
      "cell_type": "code",
      "source": [
        "bag_model.fit(x_train,y_train)"
      ],
      "metadata": {
        "execution": {
          "iopub.status.busy": "2022-05-03T17:07:10.798087Z",
          "iopub.execute_input": "2022-05-03T17:07:10.798318Z",
          "iopub.status.idle": "2022-05-03T17:07:14.828166Z",
          "shell.execute_reply.started": "2022-05-03T17:07:10.798289Z",
          "shell.execute_reply": "2022-05-03T17:07:14.827047Z"
        },
        "trusted": true,
        "id": "VOuHIa_r2_cj"
      },
      "execution_count": null,
      "outputs": []
    },
    {
      "cell_type": "code",
      "source": [
        "bag_model.score(x_test,y_test)"
      ],
      "metadata": {
        "execution": {
          "iopub.status.busy": "2022-05-03T17:07:14.829369Z",
          "iopub.execute_input": "2022-05-03T17:07:14.829594Z",
          "iopub.status.idle": "2022-05-03T17:07:15.108552Z",
          "shell.execute_reply.started": "2022-05-03T17:07:14.829564Z",
          "shell.execute_reply": "2022-05-03T17:07:15.107052Z"
        },
        "trusted": true,
        "id": "51QhPoQ_2_cj"
      },
      "execution_count": null,
      "outputs": []
    },
    {
      "cell_type": "code",
      "source": [
        "predict = bag_model.predict(x_test)"
      ],
      "metadata": {
        "execution": {
          "iopub.status.busy": "2022-05-03T17:07:15.11036Z",
          "iopub.execute_input": "2022-05-03T17:07:15.110693Z",
          "iopub.status.idle": "2022-05-03T17:07:15.381792Z",
          "shell.execute_reply.started": "2022-05-03T17:07:15.110655Z",
          "shell.execute_reply": "2022-05-03T17:07:15.380694Z"
        },
        "trusted": true,
        "id": "MKV2_nHJ2_ck"
      },
      "execution_count": null,
      "outputs": []
    },
    {
      "cell_type": "code",
      "source": [
        "plt.figure(figsize=(12,8))\n",
        "sns.heatmap(confusion_matrix(y_test,predict),annot=True)\n",
        "plt.show()"
      ],
      "metadata": {
        "execution": {
          "iopub.status.busy": "2022-05-03T17:07:15.383433Z",
          "iopub.execute_input": "2022-05-03T17:07:15.383661Z",
          "iopub.status.idle": "2022-05-03T17:07:17.050627Z",
          "shell.execute_reply.started": "2022-05-03T17:07:15.383632Z",
          "shell.execute_reply": "2022-05-03T17:07:17.049425Z"
        },
        "trusted": true,
        "id": "UUA4cd7D2_cl"
      },
      "execution_count": null,
      "outputs": []
    },
    {
      "cell_type": "markdown",
      "source": [
        "<h1><b>4 <span style='color:#00bd35;'>|</span> 🎊🎊🎊 Conclusion 🎊🎊🎊</b></h1>\n",
        "<div style=\"color:white;\n",
        "            display:fill;\n",
        "            border-radius:8px;\n",
        "            background-color:#2b2b2b;\n",
        "            font-size:120%;\n",
        "            font-family:fantasy;\n",
        "            letter-spacing:0.5px\">\n",
        "    <p style=\"padding: 8px;color:white;\"><b>4.1 | Value mapping</b></p>\n",
        "</div>\n",
        "<h4 style= \"line-height:20px;\"> <mark style=\"background-color:#00bd35;color:white;border-radius:4px;\"><b>Value mapping</b></mark> shows that which value is belongs to which crop. It helps in easy reading the predicted value. Eg: If predicted value id <mark style=\"background-color:#00bd35;color:white;border-radius:4px;\"><b>20</b></mark> then its belongs to <mark style=\"background-color:#00bd35;color:white;border-radius:4px;\"><b>Crop rice.</b></mark> So on...</h4>"
      ],
      "metadata": {
        "id": "sYCAQ7Zl2_cl"
      }
    },
    {
      "cell_type": "code",
      "source": [
        "dha2 =pd.DataFrame(Y)\n",
        "code = pd.DataFrame(dha2['label'].unique())"
      ],
      "metadata": {
        "execution": {
          "iopub.status.busy": "2022-05-03T17:07:17.05293Z",
          "iopub.execute_input": "2022-05-03T17:07:17.05324Z",
          "iopub.status.idle": "2022-05-03T17:07:17.061205Z",
          "shell.execute_reply.started": "2022-05-03T17:07:17.053205Z",
          "shell.execute_reply": "2022-05-03T17:07:17.059739Z"
        },
        "trusted": true,
        "id": "6QEjUfRz2_cm"
      },
      "execution_count": null,
      "outputs": []
    },
    {
      "cell_type": "code",
      "source": [
        "dha = pd.DataFrame(y)\n",
        "encode = pd.DataFrame(dha[0].unique())\n",
        "refer = pd.DataFrame()\n",
        "refer['code']=code\n",
        "refer['encode']=encode\n",
        "refer"
      ],
      "metadata": {
        "execution": {
          "iopub.status.busy": "2022-05-03T17:07:17.063243Z",
          "iopub.execute_input": "2022-05-03T17:07:17.06364Z",
          "iopub.status.idle": "2022-05-03T17:07:17.089902Z",
          "shell.execute_reply.started": "2022-05-03T17:07:17.063595Z",
          "shell.execute_reply": "2022-05-03T17:07:17.088244Z"
        },
        "trusted": true,
        "id": "MZOx5v232_cm"
      },
      "execution_count": null,
      "outputs": []
    },
    {
      "cell_type": "markdown",
      "source": [
        "<div style=\"color:white;\n",
        "            display:fill;\n",
        "            border-radius:8px;\n",
        "            background-color:#2b2b2b;\n",
        "            font-size:120%;\n",
        "            font-family:fantasy;\n",
        "            letter-spacing:0.5px\">\n",
        "    <p style=\"padding: 8px;color:white;\"><b>4.2 | Report</b></p>\n",
        "</div>\n",
        "<h4 style=\"line-height:25px;\"> Score for each crops. Want to know more more about <mark style=\"background-color:#00bd35;color:white;border-radius:4px;\"><b>Precision and recall</b></mark> <br>- <a href=\"https://en.wikipedia.org/wiki/Precision_and_recall\">Wikipedia</a><br> -\n",
        "    <a href=\"https://www.youtube.com/watch?v=2osIZ-dSPGE&list=PLeo1K3hjS3uu7CxAacxVndI4bE_o3BDtO&index=19\">Youtube</a></h4>"
      ],
      "metadata": {
        "id": "L_Yrwp-f2_cn"
      }
    },
    {
      "cell_type": "code",
      "source": [
        "print(classification_report(y_test,predict))"
      ],
      "metadata": {
        "execution": {
          "iopub.status.busy": "2022-05-03T17:07:17.091515Z",
          "iopub.execute_input": "2022-05-03T17:07:17.091836Z",
          "iopub.status.idle": "2022-05-03T17:07:17.10426Z",
          "shell.execute_reply.started": "2022-05-03T17:07:17.091766Z",
          "shell.execute_reply": "2022-05-03T17:07:17.102659Z"
        },
        "trusted": true,
        "id": "HTspXHpV2_cn"
      },
      "execution_count": null,
      "outputs": []
    },
    {
      "cell_type": "markdown",
      "source": [
        "<div style=\"display:fill;\n",
        "            border-radius:15px;\n",
        "            background-color:#00bd35;\n",
        "            font-size:210%;\n",
        "            font-family:cursive;\n",
        "            letter-spacing:0.5px;\n",
        "            padding:10px;\n",
        "            color:white;\n",
        "            border-style: solid;\n",
        "            border-color: black;\n",
        "            text-align:center;\">\n",
        "    <b>The End <br><p style = \"text-align:center;font-size:20px; color:white\"><i>Thank you for visiting</i></p></b>\n",
        "</div>"
      ],
      "metadata": {
        "id": "74ODGIbe2_co"
      }
    }
  ]
}